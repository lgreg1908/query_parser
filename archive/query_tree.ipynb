{
 "cells": [
  {
   "cell_type": "code",
   "execution_count": 1,
   "metadata": {},
   "outputs": [],
   "source": [
    "from query_tree import SQLToken, SQLNode, SQLQueryTree"
   ]
  },
  {
   "cell_type": "code",
   "execution_count": 56,
   "metadata": {},
   "outputs": [],
   "source": [
    "import sqlparse\n",
    "from typing import Union, Dict"
   ]
  },
  {
   "cell_type": "code",
   "execution_count": 3,
   "metadata": {},
   "outputs": [
    {
     "name": "stdout",
     "output_type": "stream",
     "text": [
      "Node: Token.Punctuation: ;\n",
      "\n",
      "Children: []\n"
     ]
    },
    {
     "data": {
      "text/plain": [
       "2"
      ]
     },
     "execution_count": 3,
     "metadata": {},
     "output_type": "execute_result"
    }
   ],
   "source": [
    "sql_query_3 = \"\"\"\n",
    "    SELECT u.country, COUNT(*) as user_count\n",
    "    FROM users u\n",
    "    WHERE u.age > 18\n",
    "    GROUP BY u.country\n",
    "    HAVING COUNT(*) > 100\n",
    "    ORDER BY user_count DESC;\n",
    "\"\"\"\n",
    "\n",
    "query_tree_3 = SQLQueryTree(sql_query_3)\n",
    "query_tree_3.get_depth()\n"
   ]
  },
  {
   "cell_type": "code",
   "execution_count": 5,
   "metadata": {},
   "outputs": [
    {
     "name": "stdout",
     "output_type": "stream",
     "text": [
      "Node: Token.Punctuation: ;\n",
      "\n",
      "Children: []\n"
     ]
    },
    {
     "data": {
      "text/plain": [
       "2"
      ]
     },
     "execution_count": 5,
     "metadata": {},
     "output_type": "execute_result"
    }
   ],
   "source": [
    "sql_query = \"\"\"\n",
    "    SELECT u.id\n",
    "    FROM users\n",
    "    ;\n",
    "\"\"\"\n",
    "\n",
    "query_tree = SQLQueryTree(sql_query)\n",
    "# print(query_tree)\n",
    "query_tree.get_depth()\n"
   ]
  },
  {
   "cell_type": "code",
   "execution_count": 4,
   "metadata": {},
   "outputs": [
    {
     "name": "stdout",
     "output_type": "stream",
     "text": [
      "Node: None: WHERE u.registration_date BETWEEN '2020-01-01' AND '2020-12-31'\n",
      "    AND (u.status = 'active' OR u.id IN (SELECT user_id FROM vip_users));\n",
      "\n",
      "Children: []\n"
     ]
    },
    {
     "data": {
      "text/plain": [
       "<SQLNode token=None, children=23>"
      ]
     },
     "execution_count": 4,
     "metadata": {},
     "output_type": "execute_result"
    }
   ],
   "source": [
    "sql_query_2 = \"\"\"\n",
    "    SELECT u.id, \n",
    "           (SELECT COUNT(*) FROM orders WHERE orders.user_id = u.id) as order_count,\n",
    "           (SELECT AVG(amount) FROM payments WHERE payments.user_id = u.id) as average_payment\n",
    "    FROM users u \n",
    "    WHERE u.registration_date BETWEEN '2020-01-01' AND '2020-12-31'\n",
    "    AND (u.status = 'active' OR u.id IN (SELECT user_id FROM vip_users));\n",
    "\"\"\"\n",
    "\n",
    "query_tree_2 = SQLQueryTree(sql_query_2)\n",
    "query_tree_2.root\n"
   ]
  },
  {
   "cell_type": "code",
   "execution_count": 7,
   "metadata": {},
   "outputs": [
    {
     "name": "stdout",
     "output_type": "stream",
     "text": [
      "  Token.Text.Whitespace.Newline: \n",
      "\n",
      "  Token.Text.Whitespace:  \n",
      "  Token.Text.Whitespace:  \n",
      "  Token.Text.Whitespace:  \n",
      "  Token.Text.Whitespace:  \n",
      "  Token.Keyword.DML: SELECT\n",
      "  Token.Text.Whitespace:  \n",
      "  None: u.id\n",
      "  Token.Text.Whitespace.Newline: \n",
      "\n",
      "  Token.Text.Whitespace:  \n",
      "  Token.Text.Whitespace:  \n",
      "  Token.Text.Whitespace:  \n",
      "  Token.Text.Whitespace:  \n",
      "  Token.Keyword: FROM\n",
      "  Token.Text.Whitespace:  \n",
      "  None: users (select * from (select * from table))\n",
      "  Token.Text.Whitespace:  \n",
      "  Token.Text.Whitespace.Newline: \n",
      "\n",
      "  Token.Text.Whitespace:  \n",
      "  Token.Text.Whitespace:  \n",
      "  Token.Text.Whitespace:  \n",
      "  Token.Text.Whitespace:  \n",
      "  Token.Punctuation: ;\n",
      "\n"
     ]
    },
    {
     "data": {
      "text/plain": [
       "2"
      ]
     },
     "execution_count": 7,
     "metadata": {},
     "output_type": "execute_result"
    }
   ],
   "source": [
    "sql_query = \"\"\"\n",
    "    SELECT u.id\n",
    "    FROM users (select * from (select * from table)) \n",
    "    ;\n",
    "\"\"\"\n",
    "\n",
    "query_tree = SQLQueryTree(sql_query)\n",
    "print(query_tree)\n",
    "query_tree.get_depth()\n"
   ]
  },
  {
   "cell_type": "code",
   "execution_count": 6,
   "metadata": {},
   "outputs": [],
   "source": [
    "import sqlparse\n",
    "import logging\n",
    "from typing import List, Optional, Iterator\n",
    "\n",
    "class SQLToken:\n",
    "    \"\"\"\n",
    "    Represents a basic SQL token.\n",
    "\n",
    "    Attributes\n",
    "    ----------\n",
    "    token_type : sqlparse.tokens.TokenType\n",
    "        The type of the SQL token.\n",
    "    value : str\n",
    "        The string value of the token.\n",
    "    \"\"\"\n",
    "    def __init__(self, token_type: sqlparse.tokens._TokenType, value: str):\n",
    "        self.token_type = token_type\n",
    "        self.value = value"
   ]
  },
  {
   "cell_type": "code",
   "execution_count": 27,
   "metadata": {},
   "outputs": [],
   "source": [
    "class SQLNode:\n",
    "    \"\"\"\n",
    "    Represents a node in the SQL query tree.\n",
    "\n",
    "    Attributes\n",
    "    ----------\n",
    "    token : Optional[SQLToken]\n",
    "        The SQL token associated with this node. Can be None for structural nodes.\n",
    "    children : List[SQLNode])\n",
    "        The list of child nodes.\n",
    "    \"\"\"\n",
    "    def __init__(self, token: Optional[SQLToken] = None):\n",
    "        self.token = token\n",
    "        self.children: List[SQLNode] = []\n",
    "\n",
    "    def add_child(self, child: 'SQLNode'):\n",
    "        \"\"\"Add a child node to this node.\"\"\"\n",
    "        self.children.append(child)\n",
    "        \n",
    "    def to_dict(self) -> dict:\n",
    "        \"\"\"\n",
    "        Convert the SQLNode and its subtree into a nested dictionary.\n",
    "\n",
    "        Returns:\n",
    "            dict: A dictionary representation of the SQLNode.\n",
    "        \"\"\"\n",
    "        node_dict = {\n",
    "            \"token_type\": str(self.token.token_type) if self.token else None,\n",
    "            \"value\": self.token.value if self.token else None,\n",
    "            \"children\": [child.to_dict() for child in self.children]\n",
    "        }\n",
    "        return node_dict\n",
    "\n",
    "   "
   ]
  },
  {
   "cell_type": "code",
   "execution_count": 28,
   "metadata": {},
   "outputs": [],
   "source": [
    "sql_query = \"SELECT column FROM table\"\n",
    "parsed_query = sqlparse.parse(sql_query)[0]"
   ]
  },
  {
   "cell_type": "code",
   "execution_count": 32,
   "metadata": {},
   "outputs": [],
   "source": [
    "sql_query = \"\"\"SELECT table.column1, table2.column2 FROM table JOIN (SELECT column2 FROM newtable) table2 ON table.column3 = table2.column3\"\"\"\n",
    "parsed_query = sqlparse.parse(sql_query)[0]"
   ]
  },
  {
   "cell_type": "code",
   "execution_count": 34,
   "metadata": {},
   "outputs": [
    {
     "data": {
      "text/plain": [
       "[<DML 'SELECT' at 0x7FC0DB22D5E0>,\n",
       " <Whitespace ' ' at 0x7FC0DB273460>,\n",
       " <IdentifierList 'table....' at 0x7FC0DB26A900>,\n",
       " <Whitespace ' ' at 0x7FC0DB273B80>,\n",
       " <Keyword 'FROM' at 0x7FC0DB273BE0>,\n",
       " <Whitespace ' ' at 0x7FC0DB273C40>,\n",
       " <Keyword 'table' at 0x7FC0DB273CA0>,\n",
       " <Whitespace ' ' at 0x7FC0DB273D00>,\n",
       " <Keyword 'JOIN' at 0x7FC0DB273D60>,\n",
       " <Whitespace ' ' at 0x7FC0DB273DC0>,\n",
       " <Identifier '(SELEC...' at 0x7FC0DB26A890>,\n",
       " <Whitespace ' ' at 0x7FC0DB270280>,\n",
       " <Keyword 'ON' at 0x7FC0DB2702E0>,\n",
       " <Whitespace ' ' at 0x7FC0DB270340>,\n",
       " <Comparison 'table....' at 0x7FC0DB26A740>]"
      ]
     },
     "execution_count": 34,
     "metadata": {},
     "output_type": "execute_result"
    }
   ],
   "source": [
    "list(parsed_query)"
   ]
  },
  {
   "cell_type": "code",
   "execution_count": 29,
   "metadata": {},
   "outputs": [],
   "source": [
    "def _build_tree(parsed_query):\n",
    "    root = SQLNode()\n",
    "    for token in parsed_query.tokens:\n",
    "        if isinstance(token, sqlparse.sql.Token):\n",
    "            node = SQLNode(SQLToken(token.ttype, token.value))\n",
    "            root.add_child(node)\n",
    "        elif isinstance(token, (sqlparse.sql.Parenthesis, sqlparse.sql.Statement)):\n",
    "            node = SQLNode()\n",
    "            root.add_child(node)\n",
    "            node.children.append(_build_tree(token))\n",
    "    return root"
   ]
  },
  {
   "cell_type": "code",
   "execution_count": 35,
   "metadata": {},
   "outputs": [
    {
     "data": {
      "text/plain": [
       "{'token_type': None,\n",
       " 'value': None,\n",
       " 'children': [{'token_type': 'Token.Keyword.DML',\n",
       "   'value': 'SELECT',\n",
       "   'children': []},\n",
       "  {'token_type': 'Token.Text.Whitespace', 'value': ' ', 'children': []},\n",
       "  {'token_type': 'None',\n",
       "   'value': 'table.column1, table2.column2',\n",
       "   'children': []},\n",
       "  {'token_type': 'Token.Text.Whitespace', 'value': ' ', 'children': []},\n",
       "  {'token_type': 'Token.Keyword', 'value': 'FROM', 'children': []},\n",
       "  {'token_type': 'Token.Text.Whitespace', 'value': ' ', 'children': []},\n",
       "  {'token_type': 'Token.Keyword', 'value': 'table', 'children': []},\n",
       "  {'token_type': 'Token.Text.Whitespace', 'value': ' ', 'children': []},\n",
       "  {'token_type': 'Token.Keyword', 'value': 'JOIN', 'children': []},\n",
       "  {'token_type': 'Token.Text.Whitespace', 'value': ' ', 'children': []},\n",
       "  {'token_type': 'None',\n",
       "   'value': '(SELECT column2 FROM newtable) table2',\n",
       "   'children': []},\n",
       "  {'token_type': 'Token.Text.Whitespace', 'value': ' ', 'children': []},\n",
       "  {'token_type': 'Token.Keyword', 'value': 'ON', 'children': []},\n",
       "  {'token_type': 'Token.Text.Whitespace', 'value': ' ', 'children': []},\n",
       "  {'token_type': 'None',\n",
       "   'value': 'table.column3 = table2.column3',\n",
       "   'children': []}]}"
      ]
     },
     "execution_count": 35,
     "metadata": {},
     "output_type": "execute_result"
    }
   ],
   "source": [
    "_build_tree(parsed_query).to_dict()"
   ]
  },
  {
   "cell_type": "code",
   "execution_count": null,
   "metadata": {},
   "outputs": [],
   "source": [
    "\n",
    "\n",
    "\n",
    "\n",
    "\n",
    "\n",
    "class SQLQueryTree:\n",
    "    \"\"\"\n",
    "    Represents the entire SQL query tree.\n",
    "\n",
    "    Attributes\n",
    "    ----------\n",
    "    sql_query : str\n",
    "        The SQL query string used to build the tree.\n",
    "    root : SQLNode\n",
    "        The root node of the SQL query tree.\n",
    "    \"\"\"\n",
    "    def __init__(self, sql_query: str):\n",
    "        self.sql_query = sql_query\n",
    "        self.root: SQLNode = self._build_tree(sqlparse.parse(sql_query)[0])\n",
    "\n",
    "    def _build_tree(self, parsed_query: sqlparse.sql.Statement) -> SQLNode:\n",
    "        \"\"\"\n",
    "        Build the SQL query tree from a parsed SQL statement.\n",
    "\n",
    "        Arguments\n",
    "        ---------\n",
    "        parsed_query : sqlparse.sql.Statement\n",
    "            The parsed SQL statement.\n",
    "\n",
    "        Returns\n",
    "        -------\n",
    "        SQLNode\n",
    "            The root node of the SQL query tree.\n",
    "\n",
    "        Raises\n",
    "            ValueError: If the SQL query is invalid or parsing fails.\n",
    "        \"\"\"\n",
    "        if not parsed_query:\n",
    "            raise ValueError(\"Invalid SQL query provided\")\n",
    "\n",
    "        root = SQLNode()\n",
    "        for token in parsed_query.tokens:\n",
    "            if isinstance(token, sqlparse.sql.Token):\n",
    "                node = SQLNode(SQLToken(token.ttype, token.value))\n",
    "                root.add_child(node)\n",
    "            elif isinstance(token, (sqlparse.sql.Parenthesis, sqlparse.sql.Statement)):\n",
    "                node = SQLNode()\n",
    "                root.add_child(node)\n",
    "                node.children.append(self._build_tree(token))\n",
    "        print(\"Node:\", node)\n",
    "        print(\"Children:\", node.children)\n",
    "        return root\n",
    "    \n",
    "    def get_depth(self) -> int:\n",
    "        \"\"\"\n",
    "        Calculate the maximum depth of the SQL query tree.\n",
    "\n",
    "        Returns:\n",
    "            int: The maximum depth of the tree.\n",
    "        \"\"\"\n",
    "        return self._get_depth_recursive(self.root)\n",
    "\n",
    "    def _get_depth_recursive(self, node: SQLNode) -> int:\n",
    "        \"\"\"\n",
    "        Helper method to recursively calculate the depth of the tree.\n",
    "\n",
    "        Args:\n",
    "            node (SQLNode): The current node being processed.\n",
    "            current_depth (int): The depth of the current node.\n",
    "\n",
    "        Returns:\n",
    "            int: The depth of the tree rooted at the current node.\n",
    "        \"\"\"\n",
    "        if not node.children:\n",
    "            return 1\n",
    "        return  1 + max(self._get_depth_recursive(child) for child in node.children)\n"
   ]
  },
  {
   "cell_type": "code",
   "execution_count": null,
   "metadata": {},
   "outputs": [],
   "source": []
  },
  {
   "cell_type": "code",
   "execution_count": null,
   "metadata": {},
   "outputs": [],
   "source": []
  },
  {
   "cell_type": "code",
   "execution_count": null,
   "metadata": {},
   "outputs": [],
   "source": []
  },
  {
   "cell_type": "code",
   "execution_count": 57,
   "metadata": {},
   "outputs": [],
   "source": [
    "import sqlparse\n",
    "from functools import lru_cache\n",
    "from sqlparse.tokens import DML, DDL\n",
    "from sqlparse.sql import Token, TokenList\n",
    "from typing import List\n",
    "\n",
    "\n",
    "class SqlQuery:\n",
    "    def __init__(self):\n",
    "        self.tree: List[Token] = []\n",
    "        self.parsed_query = None\n",
    "\n",
    "    @lru_cache(maxsize=None)\n",
    "    def create_tree(self, query: str) -> List[Token]:\n",
    "        try:\n",
    "            if not query or not isinstance(query, str):\n",
    "                raise ValueError(\"Invalid query provided\")\n",
    "                \n",
    "            self.parsed_query = sqlparse.parse(query)\n",
    "            if not self.parsed_query:\n",
    "                raise ValueError(\"Failed to parse the query\")\n",
    "\n",
    "            self.tree = self.parsed_query[0].tokens\n",
    "            return self.tree\n",
    "        except ValueError as ve:\n",
    "            raise ve\n",
    "        except Exception as e:\n",
    "            raise ValueError(f\"SQL parse error: {e}\")\n",
    "\n",
    "    def flatten_tree(self, tokens=None) -> List[str]:\n",
    "        if tokens is None:\n",
    "            tokens = self.tree\n",
    "\n",
    "        flat_tokens = []\n",
    "        for token in tokens:\n",
    "            if isinstance(token, TokenList):\n",
    "                flat_tokens.extend(self.flatten_tree(token.tokens))\n",
    "            else:\n",
    "                flat_tokens.append(token.normalized)\n",
    "        return flat_tokens\n",
    "\n",
    "    def recompose_query(self, tokens=None) -> str:\n",
    "        if tokens is None:\n",
    "            tokens = self.tree\n",
    "\n",
    "        query = ''\n",
    "        for token in tokens:\n",
    "            if isinstance(token, TokenList):\n",
    "                query += \"(\" + self.recompose_query(token.tokens) + \")\"\n",
    "            else:\n",
    "                query += str(token)\n",
    "        \n",
    "        return query\n",
    "\n",
    "    def tree_to_dict_(self, tokens=None) -> Dict:\n",
    "        if tokens is None:\n",
    "            tokens = self.tree\n",
    "\n",
    "        def process_token(token) -> Union[Dict, str]:\n",
    "            if isinstance(token, TokenList):\n",
    "                return {token.ttype: [process_token(t) for t in token.tokens]}\n",
    "            else:\n",
    "                return token.normalized\n",
    "\n",
    "        return {None: [process_token(token) for token in tokens]}\n",
    "    \n",
    "    def tree_to_dict(self, tokens=None) -> Dict:\n",
    "        if tokens is None:\n",
    "            tokens = self.tree\n",
    "\n",
    "        def process_token(token) -> Union[Dict, str]:\n",
    "            if isinstance(token, TokenList):\n",
    "                children = [process_token(t) for t in token.tokens]\n",
    "                return {\n",
    "                    \"type\": \"TokenList\",\n",
    "                    \"value\": token.normalized,\n",
    "                    \"children\": children\n",
    "                }\n",
    "            else:\n",
    "                return {\n",
    "                    \"type\": token.ttype,\n",
    "                    \"value\": token.normalized\n",
    "                }\n",
    "\n",
    "        return {\"type\": \"ROOT\", \"children\": [process_token(token) for token in tokens]}\n",
    "\n",
    "    def is_read_only(self, query: str) -> bool:\n",
    "        try:\n",
    "            if not query or not isinstance(query, str):\n",
    "                raise ValueError(\"Invalid query provided\")\n",
    "                \n",
    "            parsed = self.create_tree(query)\n",
    "            if not parsed:\n",
    "                raise ValueError(\"Failed to parse the query\")\n",
    "\n",
    "            modifying_keywords = [\"INSERT\", \"UPDATE\", \"DELETE\", \"DROP\", \"ALTER\"]\n",
    "\n",
    "            flat_tokens = self.flatten_tree(parsed)\n",
    "            for keyword in modifying_keywords:\n",
    "                if keyword in flat_tokens:\n",
    "                    return False\n",
    "        \n",
    "            return True\n",
    "        \n",
    "        except ValueError as ve:\n",
    "            raise ve\n",
    "        except Exception as e:\n",
    "            raise ValueError(f\"SQL parse error: {e}\")\n",
    "\n",
    "# \n",
    "\n",
    "\n"
   ]
  },
  {
   "cell_type": "code",
   "execution_count": 58,
   "metadata": {},
   "outputs": [],
   "source": [
    "parser = SqlQuery()\n"
   ]
  },
  {
   "cell_type": "code",
   "execution_count": 59,
   "metadata": {},
   "outputs": [],
   "source": [
    "tree  = parser.create_tree(\"SELECT * FROM table\") "
   ]
  },
  {
   "cell_type": "code",
   "execution_count": 61,
   "metadata": {},
   "outputs": [
    {
     "data": {
      "text/plain": [
       "{'type': 'ROOT',\n",
       " 'children': [{'type': Token.Keyword.DML, 'value': 'SELECT'},\n",
       "  {'type': Token.Text.Whitespace, 'value': ' '},\n",
       "  {'type': Token.Wildcard, 'value': '*'},\n",
       "  {'type': Token.Text.Whitespace, 'value': ' '},\n",
       "  {'type': Token.Keyword, 'value': 'FROM'},\n",
       "  {'type': Token.Text.Whitespace, 'value': ' '},\n",
       "  {'type': Token.Keyword, 'value': 'TABLE'}]}"
      ]
     },
     "execution_count": 61,
     "metadata": {},
     "output_type": "execute_result"
    }
   ],
   "source": [
    "parser.tree_to_dict()\n"
   ]
  },
  {
   "cell_type": "code",
   "execution_count": 62,
   "metadata": {},
   "outputs": [
    {
     "data": {
      "text/plain": [
       "[<DML 'SELECT' at 0x7FC0DB3A53A0>,\n",
       " <Whitespace ' ' at 0x7FC0DB3A5700>,\n",
       " <Wildcard '*' at 0x7FC0DB3A5220>,\n",
       " <Whitespace ' ' at 0x7FC0DB38BB80>,\n",
       " <Keyword 'FROM' at 0x7FC0DB38B820>,\n",
       " <Whitespace ' ' at 0x7FC0DB38BC40>,\n",
       " <Keyword 'table' at 0x7FC0DB38BBE0>]"
      ]
     },
     "execution_count": 62,
     "metadata": {},
     "output_type": "execute_result"
    }
   ],
   "source": [
    "sqlparse.parse(\"SELECT * FROM table\")[0].tokens"
   ]
  },
  {
   "cell_type": "code",
   "execution_count": 43,
   "metadata": {},
   "outputs": [],
   "source": [
    "token = Token(DML, 'SELECT')"
   ]
  },
  {
   "cell_type": "code",
   "execution_count": 45,
   "metadata": {},
   "outputs": [
    {
     "data": {
      "text/plain": [
       "Token.Keyword.DML"
      ]
     },
     "execution_count": 45,
     "metadata": {},
     "output_type": "execute_result"
    }
   ],
   "source": [
    "token.ttype"
   ]
  },
  {
   "cell_type": "code",
   "execution_count": 54,
   "metadata": {},
   "outputs": [
    {
     "data": {
      "text/plain": [
       "'column, *'"
      ]
     },
     "execution_count": 54,
     "metadata": {},
     "output_type": "execute_result"
    }
   ],
   "source": [
    "tree[2].normalized\n"
   ]
  },
  {
   "cell_type": "code",
   "execution_count": null,
   "metadata": {},
   "outputs": [],
   "source": [
    "def test_create_tree():\n",
    "    parser = SqlQuery()\n",
    "    assert parser.create_tree(\"SELECT * FROM table\") == [\n",
    "        Token(DML, 'SELECT'),\n",
    "        Token(DDL, '*'),\n",
    "        Token(DDL, 'FROM'),\n",
    "        Token(DDL, 'table')\n",
    "    ]\n",
    "\n",
    "def test_flatten_tree():\n",
    "    parser = SqlQuery()\n",
    "    parsed = parser.create_tree(\"SELECT * FROM table\")\n",
    "    assert parser.flatten_tree(parsed) == ['SELECT', '*', 'FROM', 'table']\n",
    "\n",
    "def test_recompose_query():\n",
    "    parser = SqlQuery()\n",
    "    parsed = parser.create_tree(\"SELECT * FROM table\")\n",
    "    assert parser.recompose_query(parsed) == \"SELECT * FROM table\"\n",
    "\n",
    "def test_is_read_only():\n",
    "    parser = SqlQuery()\n",
    "    assert parser.is_read_only(\"SELECT * FROM table\") == True\n",
    "    assert parser.is_read_only(\"UPDATE table SET column1 = 10\") == False\n",
    "    assert parser.is_read_only(\"DELETE FROM table WHERE condition\") == False\n",
    "    assert parser.is_read_only(\"DROP TABLE table_name\") == False\n",
    "    assert parser.is_read_only(\"ALTER TABLE table_name ADD column_name\") == False\n",
    "\n",
    "def test_complex_queries():\n",
    "    parser = SqlQuery()\n",
    "    query_nested = \"\"\"\n",
    "    SELECT * FROM (\n",
    "        SELECT col1 FROM table1\n",
    "        UNION\n",
    "        SELECT col2 FROM table2\n",
    "    ) AS subquery\n",
    "    \"\"\"\n",
    "    query_with_with = \"\"\"\n",
    "    WITH cte AS (\n",
    "        SELECT col1 FROM table1\n",
    "        UNION\n",
    "        SELECT col2 FROM table2\n",
    "    )\n",
    "    SELECT * FROM cte\n",
    "    \"\"\"\n",
    "\n",
    "    assert parser.create_tree(query_nested) == [\n",
    "        Token(DML, 'SELECT'),\n",
    "        Token(DDL, '*'),\n",
    "        Token(DDL, 'FROM'),\n",
    "        Token(TokenList, [\n",
    "            Token(DML, 'SELECT'),\n",
    "            Token(DDL, 'col1'),\n",
    "            Token(DDL, 'FROM'),\n",
    "            Token(DDL, 'table1'),\n",
    "            Token(DDL, 'UNION'),\n",
    "            Token(DML, 'SELECT'),\n",
    "            Token(DDL, 'col2'),\n",
    "            Token(DDL, 'FROM'),\n",
    "            Token(DDL, 'table2')\n",
    "        ]),\n",
    "        Token(DDL, 'AS'),\n",
    "        Token(DDL, 'subquery')\n",
    "    ]\n",
    "\n",
    "    assert parser.create_tree(query_with_with) == [\n",
    "        Token(TokenList, [\n",
    "            Token(DDL, 'WITH'),\n",
    "            Token(DDL, 'cte'),\n",
    "            Token(TokenList, [\n",
    "                Token(DML, 'SELECT'),\n",
    "                Token(DDL, 'col1'),\n",
    "                Token(DDL, 'FROM'),\n",
    "                Token(DDL, 'table1'), Token(DDL, 'UNION'),\n",
    "                Token(DML, 'SELECT'),\n",
    "                Token(DDL, 'col2'),\n",
    "                Token(DDL, 'FROM'),\n",
    "                Token(DDL, 'table2')\n",
    "            ])\n",
    "        ]),\n",
    "        Token(DML, 'SELECT'),\n",
    "        Token(DDL, '*'),\n",
    "        Token(DDL, 'FROM'),\n",
    "        Token(DDL, 'cte')\n",
    "    ]\n",
    "    \n",
    "    \n",
    "\n",
    "\n",
    "# Run tests\n",
    "test_create_tree()\n",
    "test_flatten_tree()\n",
    "test_recompose_query()\n",
    "test_is_read_only()\n",
    "test_complex_queries()"
   ]
  },
  {
   "cell_type": "code",
   "execution_count": null,
   "metadata": {},
   "outputs": [],
   "source": []
  },
  {
   "cell_type": "code",
   "execution_count": 63,
   "metadata": {},
   "outputs": [],
   "source": [
    "import sqlparse\n",
    "from sqlparse.sql import Token, TokenList\n",
    "from typing import List, Dict, Union\n",
    "from functools import lru_cache\n",
    "\n",
    "class SqlQuery:\n",
    "    def __init__(self):\n",
    "        self.tree: List[Token] = []\n",
    "        self.parsed_query = None\n",
    "\n",
    "    @lru_cache(maxsize=None)\n",
    "    def create_tree(self, query: str) -> List[Token]:\n",
    "        \"\"\"\n",
    "        Parses the SQL query and creates a parse tree.\n",
    "        \"\"\"\n",
    "        if not query or not isinstance(query, str):\n",
    "            raise ValueError(\"Invalid query provided\")\n",
    "\n",
    "        parsed = sqlparse.parse(query)\n",
    "        if not parsed:\n",
    "            raise ValueError(\"Failed to parse the query\")\n",
    "\n",
    "        self.parsed_query = parsed[0]\n",
    "        self.tree = self.parsed_query.tokens\n",
    "        return self.tree\n",
    "\n",
    "    def flatten_tree(self, tokens=None) -> List[str]:\n",
    "        \"\"\"\n",
    "        Flattens the parse tree to a list of token strings.\n",
    "        \"\"\"\n",
    "        if tokens is None:\n",
    "            tokens = self.tree\n",
    "\n",
    "        flat_tokens = []\n",
    "        for token in tokens:\n",
    "            if isinstance(token, TokenList):\n",
    "                flat_tokens.extend(self.flatten_tree(token.tokens))\n",
    "            else:\n",
    "                flat_tokens.append(token.normalized)\n",
    "        return flat_tokens\n",
    "\n",
    "    def recompose_query(self, tokens=None) -> str:\n",
    "        \"\"\"\n",
    "        Recomposes the query from the token list.\n",
    "        \"\"\"\n",
    "        if tokens is None:\n",
    "            tokens = self.tree\n",
    "\n",
    "        query = ''\n",
    "        for token in tokens:\n",
    "            if isinstance(token, TokenList):\n",
    "                query += \"(\" + self.recompose_query(token.tokens) + \")\"\n",
    "            else:\n",
    "                query += str(token)\n",
    "        return query\n",
    "\n",
    "    def is_read_only(self, query: str) -> bool:\n",
    "        \"\"\"\n",
    "        Checks if the query is read-only (SELECT).\n",
    "        \"\"\"\n",
    "        try:\n",
    "            parsed = self.create_tree(query)\n",
    "            if not parsed:\n",
    "                raise ValueError(\"Failed to parse the query\")\n",
    "\n",
    "            modifying_keywords = [\"INSERT\", \"UPDATE\", \"DELETE\", \"DROP\", \"ALTER\"]\n",
    "            flat_tokens = self.flatten_tree(parsed)\n",
    "            return not any(keyword in flat_tokens for keyword in modifying_keywords)\n",
    "        except ValueError as ve:\n",
    "            raise ve\n",
    "        except Exception as e:\n",
    "            raise ValueError(f\"SQL parse error: {e}\")\n",
    "\n",
    "    def tree_to_dict(self, tokens=None) -> Dict:\n",
    "        \"\"\"\n",
    "        Converts the parse tree to a nested dictionary.\n",
    "        \"\"\"\n",
    "        if tokens is None:\n",
    "            tokens = self.tree\n",
    "\n",
    "        def process_token(token) -> Union[Dict, str]:\n",
    "            if isinstance(token, TokenList):\n",
    "                children = [process_token(t) for t in token.tokens]\n",
    "                return {\n",
    "                    \"type\": \"TokenList\",\n",
    "                    \"value\": token.normalized,\n",
    "                    \"children\": children\n",
    "                }\n",
    "            else:\n",
    "                return {\n",
    "                    \"type\": token.ttype,\n",
    "                    \"value\": token.normalized\n",
    "                }\n",
    "\n",
    "        return {\"type\": \"ROOT\", \"children\": [process_token(token) for token in tokens]}\n",
    "\n",
    "    def standardize_query(self, query: str) -> str:\n",
    "        \"\"\"\n",
    "        Standardizes the SQL query by formatting.\n",
    "        \"\"\"\n",
    "        return sqlparse.format(query, reindent=True, keyword_case='upper', strip_whitespace=True)\n",
    "\n",
    "\n"
   ]
  },
  {
   "cell_type": "code",
   "execution_count": 64,
   "metadata": {},
   "outputs": [
    {
     "name": "stdout",
     "output_type": "stream",
     "text": [
      "Standardized Query: SELECT *\n",
      "FROM my_table\n",
      "WHERE id = 1\n"
     ]
    }
   ],
   "source": [
    "sql_query_obj = SqlQuery()\n",
    "raw_query = \"SELECT *    FROM    my_table WHERE   id = 1\"\n",
    "standardized_query = sql_query_obj.standardize_query(raw_query)\n",
    "print(\"Standardized Query:\", standardized_query)"
   ]
  },
  {
   "cell_type": "code",
   "execution_count": 66,
   "metadata": {},
   "outputs": [],
   "source": [
    "def test_select_query_tree_to_dict():\n",
    "    query = \"SELECT * FROM users\"\n",
    "    sql_query = SqlQuery()\n",
    "    sql_query.create_tree(query)\n",
    "\n",
    "    expected_tree_dict = {\n",
    "        \"type\": \"ROOT\",\n",
    "        \"children\": [\n",
    "            {\"type\": sqlparse.tokens.DML, \"value\": \"SELECT\"},\n",
    "            {\"type\": sqlparse.tokens.Wildcard, \"value\": \"*\"},\n",
    "            {\"type\": sqlparse.tokens.Keyword, \"value\": \"FROM\"},\n",
    "            {\"type\": None, \"value\": \"users\"}\n",
    "        ]\n",
    "    }\n",
    "\n",
    "    tree_dict = sql_query.tree_to_dict()\n",
    "    print(tree_dict)\n",
    "    print(expected_tree_dict)\n",
    "    # assert tree_dict == expected_tree_dict, \"tree_to_dict failed for SELECT query\"\n"
   ]
  },
  {
   "cell_type": "code",
   "execution_count": 67,
   "metadata": {},
   "outputs": [
    {
     "name": "stdout",
     "output_type": "stream",
     "text": [
      "{'type': 'ROOT', 'children': [{'type': Token.Keyword.DML, 'value': 'SELECT'}, {'type': Token.Text.Whitespace, 'value': ' '}, {'type': Token.Wildcard, 'value': '*'}, {'type': Token.Text.Whitespace, 'value': ' '}, {'type': Token.Keyword, 'value': 'FROM'}, {'type': Token.Text.Whitespace, 'value': ' '}, {'type': 'TokenList', 'value': 'users', 'children': [{'type': Token.Name, 'value': 'users'}]}]}\n",
      "{'type': 'ROOT', 'children': [{'type': Token.Keyword.DML, 'value': 'SELECT'}, {'type': Token.Wildcard, 'value': '*'}, {'type': Token.Keyword, 'value': 'FROM'}, {'type': None, 'value': 'users'}]}\n"
     ]
    }
   ],
   "source": [
    "test_select_query_tree_to_dict()"
   ]
  },
  {
   "cell_type": "code",
   "execution_count": null,
   "metadata": {},
   "outputs": [],
   "source": []
  }
 ],
 "metadata": {
  "kernelspec": {
   "display_name": "luc",
   "language": "python",
   "name": "python3"
  },
  "language_info": {
   "codemirror_mode": {
    "name": "ipython",
    "version": 3
   },
   "file_extension": ".py",
   "mimetype": "text/x-python",
   "name": "python",
   "nbconvert_exporter": "python",
   "pygments_lexer": "ipython3",
   "version": "3.9.12"
  }
 },
 "nbformat": 4,
 "nbformat_minor": 2
}
