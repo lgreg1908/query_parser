{
 "cells": [
  {
   "cell_type": "code",
   "execution_count": 1,
   "metadata": {},
   "outputs": [],
   "source": [
    "from sql_query import SqlQuery\n"
   ]
  },
  {
   "cell_type": "code",
   "execution_count": 2,
   "metadata": {},
   "outputs": [],
   "source": [
    "raw_sql = \"SELECT * FROM table\""
   ]
  },
  {
   "cell_type": "code",
   "execution_count": 3,
   "metadata": {},
   "outputs": [],
   "source": [
    "sql = SqlQuery()"
   ]
  },
  {
   "cell_type": "code",
   "execution_count": 4,
   "metadata": {},
   "outputs": [],
   "source": [
    "sql.set_query(raw_sql)"
   ]
  },
  {
   "cell_type": "code",
   "execution_count": 6,
   "metadata": {},
   "outputs": [
    {
     "data": {
      "text/plain": [
       "[<DML 'SELECT' at 0x7F8C6385AB80>,\n",
       " <Whitespace ' ' at 0x7F8C638C7A00>,\n",
       " <Wildcard '*' at 0x7F8C638C7A60>,\n",
       " <Whitespace ' ' at 0x7F8C638C7AC0>,\n",
       " <Keyword 'FROM' at 0x7F8C638C7B20>,\n",
       " <Whitespace ' ' at 0x7F8C638C7B80>,\n",
       " <Keyword 'table' at 0x7F8C638C7BE0>]"
      ]
     },
     "execution_count": 6,
     "metadata": {},
     "output_type": "execute_result"
    }
   ],
   "source": [
    "sql.tree"
   ]
  },
  {
   "cell_type": "code",
   "execution_count": 7,
   "metadata": {},
   "outputs": [
    {
     "data": {
      "text/plain": [
       "['SELECT', ' ', '*', ' ', 'FROM', ' ', 'TABLE']"
      ]
     },
     "execution_count": 7,
     "metadata": {},
     "output_type": "execute_result"
    }
   ],
   "source": [
    "sql.flatten_tree()"
   ]
  },
  {
   "cell_type": "code",
   "execution_count": 8,
   "metadata": {},
   "outputs": [
    {
     "data": {
      "text/plain": [
       "'SELECT *\\nFROM TABLE'"
      ]
     },
     "execution_count": 8,
     "metadata": {},
     "output_type": "execute_result"
    }
   ],
   "source": [
    "sql.normalized_query"
   ]
  },
  {
   "cell_type": "code",
   "execution_count": 10,
   "metadata": {},
   "outputs": [
    {
     "data": {
      "text/plain": [
       "'SELECT * FROM table'"
      ]
     },
     "execution_count": 10,
     "metadata": {},
     "output_type": "execute_result"
    }
   ],
   "source": [
    "sql.raw_query"
   ]
  },
  {
   "cell_type": "code",
   "execution_count": 9,
   "metadata": {},
   "outputs": [
    {
     "data": {
      "text/plain": [
       "{'type': 'ROOT',\n",
       " 'children': [{'type': Token.Keyword.DML,\n",
       "   'value': 'SELECT',\n",
       "   'is_group': False},\n",
       "  {'type': Token.Text.Whitespace, 'value': ' ', 'is_group': False},\n",
       "  {'type': Token.Wildcard, 'value': '*', 'is_group': False},\n",
       "  {'type': Token.Text.Whitespace, 'value': ' ', 'is_group': False},\n",
       "  {'type': Token.Keyword, 'value': 'FROM', 'is_group': False},\n",
       "  {'type': Token.Text.Whitespace, 'value': ' ', 'is_group': False},\n",
       "  {'type': Token.Keyword, 'value': 'TABLE', 'is_group': False}]}"
      ]
     },
     "execution_count": 9,
     "metadata": {},
     "output_type": "execute_result"
    }
   ],
   "source": [
    "sql.tree_to_dict()"
   ]
  },
  {
   "cell_type": "code",
   "execution_count": 12,
   "metadata": {},
   "outputs": [
    {
     "data": {
      "text/plain": [
       "[<DML 'SELECT' at 0x7F99EF84EC40>,\n",
       " <Whitespace ' ' at 0x7F99F0590280>,\n",
       " <Wildcard '*' at 0x7F99F05902E0>,\n",
       " <Whitespace ' ' at 0x7F99F0590340>,\n",
       " <Keyword 'FROM' at 0x7F99F05903A0>,\n",
       " <Whitespace ' ' at 0x7F99F0590400>,\n",
       " <Keyword 'table' at 0x7F99F0590460>]"
      ]
     },
     "execution_count": 12,
     "metadata": {},
     "output_type": "execute_result"
    }
   ],
   "source": [
    "sql.create_tree()"
   ]
  },
  {
   "cell_type": "code",
   "execution_count": 8,
   "metadata": {},
   "outputs": [
    {
     "name": "stdout",
     "output_type": "stream",
     "text": [
      "CacheInfo(hits=0, misses=1, maxsize=None, currsize=1)\n",
      "CacheInfo(hits=1, misses=1, maxsize=None, currsize=1)\n",
      "CacheInfo(hits=0, misses=0, maxsize=None, currsize=0)\n",
      "CacheInfo(hits=0, misses=1, maxsize=None, currsize=1)\n",
      "False\n"
     ]
    }
   ],
   "source": [
    "sql_query_instance = SqlQuery()\n",
    "sql_query_instance.set_query(\"SELECT * FROM table\")  # Assuming this sets the raw_query\n",
    "\n",
    "# Call create_tree for the first time (should execute the method and cache the result)\n",
    "tree_1 = sql_query_instance.create_tree()\n",
    "print(sql_query_instance.create_tree.cache_info())\n",
    "\n",
    "# Call create_tree again (should retrieve the result from cache)\n",
    "tree_2 = sql_query_instance.create_tree()\n",
    "print(sql_query_instance.create_tree.cache_info())\n",
    "\n",
    "# Now clear the cache\n",
    "sql_query_instance.clear_cache()\n",
    "print(sql_query_instance.create_tree.cache_info())\n",
    "\n",
    "# Call create_tree after clearing the cache (should execute the method again)\n",
    "tree_3 = sql_query_instance.create_tree()\n",
    "print(sql_query_instance.create_tree.cache_info())\n",
    "# Check if tree_1 is the same object as tree_3 (they should be different if cache was cleared)\n",
    "print(tree_1 is tree_3)  # Should print False if cache was cleared"
   ]
  },
  {
   "cell_type": "code",
   "execution_count": 14,
   "metadata": {},
   "outputs": [
    {
     "name": "stdout",
     "output_type": "stream",
     "text": [
      "CacheInfo(hits=0, misses=0, maxsize=None, currsize=0)\n"
     ]
    }
   ],
   "source": [
    "sql_query_instance.clear_cache()\n",
    "print(sql_query_instance.create_tree.cache_info())"
   ]
  },
  {
   "cell_type": "code",
   "execution_count": 16,
   "metadata": {},
   "outputs": [],
   "source": [
    "from query_processor import QueryProcessor, sqlparse"
   ]
  },
  {
   "cell_type": "code",
   "execution_count": 17,
   "metadata": {},
   "outputs": [
    {
     "name": "stdout",
     "output_type": "stream",
     "text": [
      "False\n",
      "False\n"
     ]
    }
   ],
   "source": [
    "query = \"SELECT * FROM table\"\n",
    "processor1 = QueryProcessor(query)\n",
    "tokens1 = processor1.parse_query()\n",
    "\n",
    "processor2 = QueryProcessor(query)\n",
    "tokens2 = processor2.parse_query()\n",
    "\n",
    "print(tokens1 is tokens2)  # Check if the same object reference is returned\n",
    "\n",
    "# Direct test of sqlparse.parse\n",
    "parsed1 = sqlparse.parse(query)\n",
    "parsed2 = sqlparse.parse(query)\n",
    "\n",
    "print(parsed1[0].tokens is parsed2[0].tokens)  # Check if the same object reference is returned\n"
   ]
  },
  {
   "cell_type": "code",
   "execution_count": null,
   "metadata": {},
   "outputs": [],
   "source": []
  }
 ],
 "metadata": {
  "kernelspec": {
   "display_name": "luc",
   "language": "python",
   "name": "python3"
  },
  "language_info": {
   "codemirror_mode": {
    "name": "ipython",
    "version": 3
   },
   "file_extension": ".py",
   "mimetype": "text/x-python",
   "name": "python",
   "nbconvert_exporter": "python",
   "pygments_lexer": "ipython3",
   "version": "3.9.12"
  }
 },
 "nbformat": 4,
 "nbformat_minor": 2
}
